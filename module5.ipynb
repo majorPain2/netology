{
 "cells": [
  {
   "cell_type": "code",
   "execution_count": 11,
   "metadata": {},
   "outputs": [],
   "source": [
    "documents = [\n",
    "    {'type': 'passport', 'number': '2207 876234', 'name': 'Василий Гупкин'},\n",
    "    {'type': 'invoice', 'number': '11-2', 'name': 'Геннадий Покемонов'},\n",
    "    {'type': 'insurance', 'number': '10006', 'name': 'Аристарх Павлов'}\n",
    "]\n",
    "\n",
    "directories = {\n",
    "    '1': ['2207 876234', '11-2'],\n",
    "    '2': ['10006'],\n",
    "    '3': []\n",
    "}"
   ]
  },
  {
   "cell_type": "code",
   "execution_count": 12,
   "metadata": {},
   "outputs": [],
   "source": [
    "def doc_check(docnum):\n",
    "#    docnum = input('Введи номер документа: ')\n",
    "    for list_ in documents:\n",
    "        if list_['number'] == docnum:\n",
    "            return list_\n",
    "    return {'name':'Нет такого документа'}\n",
    "\n",
    "def dir_check(docnum):\n",
    "  #  docnum = input('Введи номер документа: ')\n",
    "    for shelf, doc in directories.items():\n",
    "        if docnum in doc:\n",
    "            return shelf\n",
    "    return 'Нет такого документа'\n",
    "\n",
    "def list_doc():\n",
    "    for list_ in documents:\n",
    "        print(f'{list_[\"type\"]} \"{list_[\"number\"]}\" \"{list_[\"name\"]}\"')\n",
    "              \n",
    "              \n",
    "def add_shelf():\n",
    "    new_shelf = input('Введи номер полки: ')\n",
    "    if new_shelf in directories:\n",
    "        print('Такая полка есть')\n",
    "    else:\n",
    "        directories[new_shelf] = []\n",
    "        print('Создали новую полку')\n",
    "    return new_shelf\n",
    "              \n",
    "def add_doc(docnum):\n",
    "    doc_type = input('Введи тип документа: ')\n",
    "    doc_name = input('Введи имя: ')\n",
    "    documents.append({'type': doc_type, 'number': docnum, 'name': doc_name})\n"
   ]
  },
  {
   "cell_type": "code",
   "execution_count": 19,
   "metadata": {},
   "outputs": [
    {
     "name": "stdout",
     "output_type": "stream",
     "text": [
      "Введи команду: m\n",
      "Введи номер документа: pok\n",
      "Нет такого документа\n",
      "Введи команду: 2207 876234\n",
      "Нет такой команды\n",
      "Введи команду: m\n",
      "Введи номер документа: 2207 876234\n",
      "Введи номер полки: 689\n",
      "Такая полка есть\n",
      "Введи команду: a\n",
      "Введи номер документа: sadf\n",
      "Такой документ уже существует\n",
      "Введи команду: a\n",
      "Введи номер документа: 11-2\n",
      "Введи тип документа: passport\n",
      "Введи имя: ghjgjh\n",
      "Введи номер полки: 3\n",
      "Такая полка есть\n",
      "Введи команду: q\n"
     ]
    }
   ],
   "source": [
    "def main():\n",
    "    while True:\n",
    "        command = input('Введи команду: ')\n",
    "        if command == 'q':\n",
    "            break\n",
    "        elif command == 'p':\n",
    "            docnum = input('Введи номер документа: ')\n",
    "            print(doc_check(docnum)['name'])\n",
    "        elif command == 's':\n",
    "            docnum = input('Введи номер документа: ')\n",
    "            print(dir_check(docnum))\n",
    "        elif command == 'l':\n",
    "            list_doc()\n",
    "        elif command == 'as':\n",
    "            add_shelf()\n",
    "        elif command == 'd':\n",
    "            docnum = input('Введи номер документа: ')\n",
    "            try:\n",
    "                documents.remove(doc_check(docnum))\n",
    "                a = dir_check(docnum)\n",
    "                directories[a].remove(docnum)\n",
    "            except:\n",
    "                print('Нет такого документа')\n",
    "        elif command == 'm':       \n",
    "            docnum = input('Введи номер документа: ')\n",
    "            try:\n",
    "                a = dir_check(docnum)\n",
    "                directories[a].remove(docnum)\n",
    "                shelf = add_shelf()\n",
    "                directories[shelf].append(docnum)\n",
    "            except:\n",
    "                print('Нет такого документа')        \n",
    "        elif command == 'a':   \n",
    "            docnum = input('Введи номер документа: ')\n",
    "            if doc_check(docnum)['name'] == 'Нет такого документа':\n",
    "                add_doc(docnum)\n",
    "                shelf = add_shelf()\n",
    "                directories[shelf].append(docnum) \n",
    "            else:\n",
    "                print('Такой документ уже существует')\n",
    "        else: print('Нет такой команды')\n",
    "            \n",
    "main()"
   ]
  },
  {
   "cell_type": "code",
   "execution_count": 20,
   "metadata": {},
   "outputs": [
    {
     "data": {
      "text/plain": [
       "([{'type': 'passport', 'number': '2207 876234', 'name': 'Василий Гупкин'},\n",
       "  {'type': 'insurance', 'number': '10006', 'name': 'Аристарх Павлов'},\n",
       "  {'type': 'aaaa', 'number': 'sadf', 'name': '234'},\n",
       "  {'type': 'passport', 'number': '11-2', 'name': 'ghjgjh'}],\n",
       " {'1': [],\n",
       "  '2': ['10006'],\n",
       "  '3': ['11-2'],\n",
       "  '689': ['sadf', '2207 876234'],\n",
       "  '6': [],\n",
       "  'jh': []})"
      ]
     },
     "execution_count": 20,
     "metadata": {},
     "output_type": "execute_result"
    }
   ],
   "source": [
    "documents ,directories"
   ]
  }
 ],
 "metadata": {
  "kernelspec": {
   "display_name": "Python 3",
   "language": "python",
   "name": "python3"
  },
  "language_info": {
   "codemirror_mode": {
    "name": "ipython",
    "version": 3
   },
   "file_extension": ".py",
   "mimetype": "text/x-python",
   "name": "python",
   "nbconvert_exporter": "python",
   "pygments_lexer": "ipython3",
   "version": "3.7.4"
  }
 },
 "nbformat": 4,
 "nbformat_minor": 2
}
