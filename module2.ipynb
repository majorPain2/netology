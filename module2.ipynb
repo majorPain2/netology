{
 "cells": [
  {
   "cell_type": "code",
   "execution_count": 5,
   "metadata": {},
   "outputs": [],
   "source": [
    "#Задание 1. Даны 2 строки: long_phrase и short_phrase. Напишите код, который проверяет действительно ли длинная фраза \n",
    "#long_phrase длиннее короткой short_phrase. И выводит True или False в зависимости от результата сравнения.\n",
    "long_phrase = 'Насколько проще было бы писать программы, если бы не заказчики'\n",
    "short_phrase = '640Кб должно хватить для любых задач. Билл Гейтс (по легенде)'\n",
    "len(long_phrase)>len(short_phrase)"
   ]
  },
  {
   "cell_type": "code",
   "execution_count": 19,
   "metadata": {},
   "outputs": [
    {
     "name": "stdout",
     "output_type": "stream",
     "text": [
      "Объем файла равен  0.95 Mb\n"
     ]
    }
   ],
   "source": [
    "#Задание 2. Дано значение объема файла в байтах (в мегабайте 2^20 байт). Напишите перевод этого значения в мегабайты \n",
    "#в формате: \"Объем файла равен 213.68Mb\".\n",
    "x = 1000000\n",
    "y = x/2**20\n",
    "print('Объем файла равен ', float('{:.2f}'.format(y)), 'Mb')"
   ]
  },
  {
   "cell_type": "code",
   "execution_count": 29,
   "metadata": {},
   "outputs": [
    {
     "name": "stdout",
     "output_type": "stream",
     "text": [
      "Введите месяц:13\n",
      "Введите число:43\n"
     ]
    }
   ],
   "source": [
    "#Задание 3. Разработать приложение для определения знака зодиака по дате рождения.\n",
    "month=input('Введите месяц:')\n",
    "day=input('Введите число:')\n",
    "\n",
    "if (month == 'декабрь' and int(day) >= 22) or (month == 'январь' and int(day) < 20): print('козерог')\n",
    "elif (month == 'январь' and int(day) >= 20) or (month == 'февраль' and int(day) < 18): print('водолей')\n",
    "elif (month == 'февраль' and int(day) >= 18) or (month == 'март' and int(day) < 20): print('рыбы')\n",
    "elif (month == 'март' and int(day) >= 20) or (month == 'апрель' and int(day) < 20): print('овен')\n",
    "elif (month == 'апрель' and int(day) >= 20) or (month == 'май' and int(day) < 21): print('телец')\n",
    "elif (month == 'май' and int(day) >= 21) or (month == 'июнь' and int(day) < 21): print('близнецы')\n",
    "elif (month == 'июнь' and int(day) >= 21) or (month == 'июль' and int(day) < 23): print('рак')\n",
    "elif (month == 'июль' and int(day) >= 23) or (month == 'август' and int(day) < 23): print('лев')\n",
    "elif (month == 'август' and int(day) >= 23) or (month == 'сентябрь' and int(day) < 23): print('дева')\n",
    "elif (month == 'сентябрь' and int(day) >= 23) or (month == 'окрябрь' and int(day) < 23): print('весы')\n",
    "elif (month == 'окрябрь' and int(day) >= 23) or (month == 'ноябрь' and int(day) < 22): print('скорпион')\n",
    "elif (month == 'ноябрь' and int(day) >= 22) or (month == 'декабрь' and int(day) < 22): print('стрелец')\n",
    "            "
   ]
  },
  {
   "cell_type": "code",
   "execution_count": 45,
   "metadata": {},
   "outputs": [
    {
     "name": "stdout",
     "output_type": "stream",
     "text": [
      "Введите ЗП:34\n",
      "сколько процентов от ЗП уходит на ипотеку:42352\n",
      "сколько процентов от ЗП уходит \"на жизнь\":342\n",
      "ссколько раз приходит премия в год.:23\n",
      "please correct u data\n"
     ]
    }
   ],
   "source": [
    "#Задание 4. Нужно разработать приложение для финансового планирования. Приложение учитывает сколько уходит на ипотеку,\n",
    "#\"на жизнь\" и сколько нужно отложить на пенсию. Пользователь вводит:\n",
    "zp=input('Введите ЗП:')\n",
    "mortgage=input('сколько процентов от ЗП уходит на ипотеку:')\n",
    "life=input('сколько процентов от ЗП уходит \"на жизнь\":')\n",
    "addzp=input('ссколько раз приходит премия в год.:')\n",
    "try:\n",
    "    if int(mortgage)>100 or int(life)>100:\n",
    "        print('please correct u data')\n",
    "    else:\n",
    "        x=int(zp)*12*int(mortgage)/100\n",
    "        y=int(zp)*int(addzp)/2\n",
    "        print('Вывод: На ипотеку было потрачено: ', x, 'рублей Было накоплено: ', y, 'рублей')\n",
    "except:\n",
    "    print('please correct u data')"
   ]
  }
 ],
 "metadata": {
  "kernelspec": {
   "display_name": "Python 3",
   "language": "python",
   "name": "python3"
  },
  "language_info": {
   "codemirror_mode": {
    "name": "ipython",
    "version": 3
   },
   "file_extension": ".py",
   "mimetype": "text/x-python",
   "name": "python",
   "nbconvert_exporter": "python",
   "pygments_lexer": "ipython3",
   "version": "3.7.4"
  }
 },
 "nbformat": 4,
 "nbformat_minor": 2
}
