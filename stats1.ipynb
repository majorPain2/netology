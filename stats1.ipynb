{
 "cells": [
  {
   "cell_type": "code",
   "execution_count": 1,
   "metadata": {},
   "outputs": [],
   "source": [
    "import pandas as pd\n",
    "import numpy as np\n",
    "import matplotlib.pyplot as plt\n",
    "import scipy.stats as sts\n",
    "%matplotlib inline\n",
    "import statistics\n",
    "import ssl"
   ]
  },
  {
   "cell_type": "code",
   "execution_count": 2,
   "metadata": {},
   "outputs": [],
   "source": [
    "# следующая строчка подключает сертификат для защищенного соединения\n",
    "ssl._create_default_https_context = ssl._create_unverified_context\n",
    "# все данные загружаются с сервера\n",
    "url=\"http://yustiks.ru/dataset/world-happiness-report-2019.csv\"\n",
    "df=pd.read_csv(url)"
   ]
  },
  {
   "cell_type": "code",
   "execution_count": 4,
   "metadata": {},
   "outputs": [],
   "source": [
    "#Посмотреть первые несколько рядов таблицы\n",
    "df.head()\n",
    "#df[df['Positive affect'].isna()] #Qatar\n",
    "df = df[df['Country (region)'] != 'Qatar']   #у Катара поля не заполнены"
   ]
  },
  {
   "cell_type": "code",
   "execution_count": 5,
   "metadata": {},
   "outputs": [
    {
     "data": {
      "text/plain": [
       "(array([1., 1., 1., 1., 1., 1., 1., 1., 1., 1., 1., 1., 1., 1., 1., 1., 1.,\n",
       "        1., 1., 1., 1., 1., 1., 1., 1., 1., 1., 1., 1., 1., 1., 1., 1., 1.,\n",
       "        1., 1., 1., 1., 1., 1., 1., 1., 1., 1., 1., 1., 1., 1., 1., 1., 1.,\n",
       "        1., 1., 1., 1., 1., 1., 1., 1., 1., 1., 1., 1., 1., 1., 1., 1., 1.,\n",
       "        1., 1., 1., 1., 1., 1., 1., 1., 1., 1., 1., 1., 1., 1., 1., 1., 1.,\n",
       "        1., 1., 1., 1., 1., 1., 1., 1., 1., 1., 1., 1., 1., 1., 1., 1., 1.,\n",
       "        1., 1., 1., 1., 1., 1., 1., 1., 1., 1., 1., 1., 1., 1., 1., 1., 1.,\n",
       "        1., 1., 1., 1., 1., 1., 1., 1., 1., 1., 1., 1., 1., 1., 1., 1., 1.,\n",
       "        1., 1., 1., 1., 1., 1., 1., 1., 1., 1., 1., 1., 1., 1., 1., 1., 1.,\n",
       "        1., 1.]),\n",
       " array([  1.        ,   1.99354839,   2.98709677,   3.98064516,\n",
       "          4.97419355,   5.96774194,   6.96129032,   7.95483871,\n",
       "          8.9483871 ,   9.94193548,  10.93548387,  11.92903226,\n",
       "         12.92258065,  13.91612903,  14.90967742,  15.90322581,\n",
       "         16.89677419,  17.89032258,  18.88387097,  19.87741935,\n",
       "         20.87096774,  21.86451613,  22.85806452,  23.8516129 ,\n",
       "         24.84516129,  25.83870968,  26.83225806,  27.82580645,\n",
       "         28.81935484,  29.81290323,  30.80645161,  31.8       ,\n",
       "         32.79354839,  33.78709677,  34.78064516,  35.77419355,\n",
       "         36.76774194,  37.76129032,  38.75483871,  39.7483871 ,\n",
       "         40.74193548,  41.73548387,  42.72903226,  43.72258065,\n",
       "         44.71612903,  45.70967742,  46.70322581,  47.69677419,\n",
       "         48.69032258,  49.68387097,  50.67741935,  51.67096774,\n",
       "         52.66451613,  53.65806452,  54.6516129 ,  55.64516129,\n",
       "         56.63870968,  57.63225806,  58.62580645,  59.61935484,\n",
       "         60.61290323,  61.60645161,  62.6       ,  63.59354839,\n",
       "         64.58709677,  65.58064516,  66.57419355,  67.56774194,\n",
       "         68.56129032,  69.55483871,  70.5483871 ,  71.54193548,\n",
       "         72.53548387,  73.52903226,  74.52258065,  75.51612903,\n",
       "         76.50967742,  77.50322581,  78.49677419,  79.49032258,\n",
       "         80.48387097,  81.47741935,  82.47096774,  83.46451613,\n",
       "         84.45806452,  85.4516129 ,  86.44516129,  87.43870968,\n",
       "         88.43225806,  89.42580645,  90.41935484,  91.41290323,\n",
       "         92.40645161,  93.4       ,  94.39354839,  95.38709677,\n",
       "         96.38064516,  97.37419355,  98.36774194,  99.36129032,\n",
       "        100.35483871, 101.3483871 , 102.34193548, 103.33548387,\n",
       "        104.32903226, 105.32258065, 106.31612903, 107.30967742,\n",
       "        108.30322581, 109.29677419, 110.29032258, 111.28387097,\n",
       "        112.27741935, 113.27096774, 114.26451613, 115.25806452,\n",
       "        116.2516129 , 117.24516129, 118.23870968, 119.23225806,\n",
       "        120.22580645, 121.21935484, 122.21290323, 123.20645161,\n",
       "        124.2       , 125.19354839, 126.18709677, 127.18064516,\n",
       "        128.17419355, 129.16774194, 130.16129032, 131.15483871,\n",
       "        132.1483871 , 133.14193548, 134.13548387, 135.12903226,\n",
       "        136.12258065, 137.11612903, 138.10967742, 139.10322581,\n",
       "        140.09677419, 141.09032258, 142.08387097, 143.07741935,\n",
       "        144.07096774, 145.06451613, 146.05806452, 147.0516129 ,\n",
       "        148.04516129, 149.03870968, 150.03225806, 151.02580645,\n",
       "        152.01935484, 153.01290323, 154.00645161, 155.        ]),\n",
       " <a list of 155 Patch objects>)"
      ]
     },
     "execution_count": 5,
     "metadata": {},
     "output_type": "execute_result"
    },
    {
     "data": {
      "image/png": "[encoded data removed]",
      "text/plain": [
       "<Figure size 432x288 with 1 Axes>"
      ]
     },
     "metadata": {
      "needs_background": "light"
     },
     "output_type": "display_data"
    }
   ],
   "source": [
    "#Построить частотный график для двух параметров: Freedom и positive affect. Какое это распределение?\n",
    "#это равномерное распределение\n",
    "plt.hist(df['Freedom'], bins = 155)"
   ]
  },
  {
   "cell_type": "code",
   "execution_count": 6,
   "metadata": {},
   "outputs": [
    {
     "data": {
      "text/plain": [
       "(array([1., 1., 1., 1., 1., 1., 1., 1., 1., 1., 1., 1., 1., 1., 1., 1., 1.,\n",
       "        1., 1., 1., 1., 1., 1., 1., 1., 1., 1., 1., 1., 1., 1., 1., 1., 1.,\n",
       "        1., 1., 1., 1., 1., 1., 1., 1., 1., 1., 1., 1., 1., 1., 1., 1., 1.,\n",
       "        1., 1., 1., 1., 1., 1., 1., 1., 1., 1., 1., 1., 1., 1., 1., 1., 1.,\n",
       "        1., 1., 1., 1., 1., 1., 1., 1., 1., 1., 1., 1., 1., 1., 1., 1., 1.,\n",
       "        1., 1., 1., 1., 1., 1., 1., 1., 1., 1., 1., 1., 1., 1., 1., 1., 1.,\n",
       "        1., 1., 1., 1., 1., 1., 1., 1., 1., 1., 1., 1., 1., 1., 1., 1., 1.,\n",
       "        1., 1., 1., 1., 1., 1., 1., 1., 1., 1., 1., 1., 1., 1., 1., 1., 1.,\n",
       "        1., 1., 1., 1., 1., 1., 1., 1., 1., 1., 1., 1., 1., 1., 1., 1., 1.,\n",
       "        1., 1.]),\n",
       " array([  1.        ,   1.99354839,   2.98709677,   3.98064516,\n",
       "          4.97419355,   5.96774194,   6.96129032,   7.95483871,\n",
       "          8.9483871 ,   9.94193548,  10.93548387,  11.92903226,\n",
       "         12.92258065,  13.91612903,  14.90967742,  15.90322581,\n",
       "         16.89677419,  17.89032258,  18.88387097,  19.87741935,\n",
       "         20.87096774,  21.86451613,  22.85806452,  23.8516129 ,\n",
       "         24.84516129,  25.83870968,  26.83225806,  27.82580645,\n",
       "         28.81935484,  29.81290323,  30.80645161,  31.8       ,\n",
       "         32.79354839,  33.78709677,  34.78064516,  35.77419355,\n",
       "         36.76774194,  37.76129032,  38.75483871,  39.7483871 ,\n",
       "         40.74193548,  41.73548387,  42.72903226,  43.72258065,\n",
       "         44.71612903,  45.70967742,  46.70322581,  47.69677419,\n",
       "         48.69032258,  49.68387097,  50.67741935,  51.67096774,\n",
       "         52.66451613,  53.65806452,  54.6516129 ,  55.64516129,\n",
       "         56.63870968,  57.63225806,  58.62580645,  59.61935484,\n",
       "         60.61290323,  61.60645161,  62.6       ,  63.59354839,\n",
       "         64.58709677,  65.58064516,  66.57419355,  67.56774194,\n",
       "         68.56129032,  69.55483871,  70.5483871 ,  71.54193548,\n",
       "         72.53548387,  73.52903226,  74.52258065,  75.51612903,\n",
       "         76.50967742,  77.50322581,  78.49677419,  79.49032258,\n",
       "         80.48387097,  81.47741935,  82.47096774,  83.46451613,\n",
       "         84.45806452,  85.4516129 ,  86.44516129,  87.43870968,\n",
       "         88.43225806,  89.42580645,  90.41935484,  91.41290323,\n",
       "         92.40645161,  93.4       ,  94.39354839,  95.38709677,\n",
       "         96.38064516,  97.37419355,  98.36774194,  99.36129032,\n",
       "        100.35483871, 101.3483871 , 102.34193548, 103.33548387,\n",
       "        104.32903226, 105.32258065, 106.31612903, 107.30967742,\n",
       "        108.30322581, 109.29677419, 110.29032258, 111.28387097,\n",
       "        112.27741935, 113.27096774, 114.26451613, 115.25806452,\n",
       "        116.2516129 , 117.24516129, 118.23870968, 119.23225806,\n",
       "        120.22580645, 121.21935484, 122.21290323, 123.20645161,\n",
       "        124.2       , 125.19354839, 126.18709677, 127.18064516,\n",
       "        128.17419355, 129.16774194, 130.16129032, 131.15483871,\n",
       "        132.1483871 , 133.14193548, 134.13548387, 135.12903226,\n",
       "        136.12258065, 137.11612903, 138.10967742, 139.10322581,\n",
       "        140.09677419, 141.09032258, 142.08387097, 143.07741935,\n",
       "        144.07096774, 145.06451613, 146.05806452, 147.0516129 ,\n",
       "        148.04516129, 149.03870968, 150.03225806, 151.02580645,\n",
       "        152.01935484, 153.01290323, 154.00645161, 155.        ]),\n",
       " <a list of 155 Patch objects>)"
      ]
     },
     "execution_count": 6,
     "metadata": {},
     "output_type": "execute_result"
    },
    {
     "data": {
      "image/png": "[encoded data removed]",
      "text/plain": [
       "<Figure size 432x288 with 1 Axes>"
      ]
     },
     "metadata": {
      "needs_background": "light"
     },
     "output_type": "display_data"
    }
   ],
   "source": [
    "plt.hist(df['Positive affect'], bins = 155)"
   ]
  },
  {
   "cell_type": "code",
   "execution_count": 9,
   "metadata": {},
   "outputs": [
    {
     "data": {
      "text/plain": [
       "155.0"
      ]
     },
     "execution_count": 9,
     "metadata": {},
     "output_type": "execute_result"
    }
   ],
   "source": [
    "#Найти медиану, моду, математическое ожидание, стандартное отклонение, дисперсию, \n",
    "#минимум и максимум, найти выбросы (если есть), размах для колонки Freedom\n",
    "df.mean()['Freedom']   #78\n",
    "df.mode()['Freedom'] #нет решения потому что все значения выборки встречаются только один раз\n",
    "df.median()['Freedom']   #78\n",
    "df.std()['Freedom']  #44.88875137492688\n",
    "df.std()['Freedom'] ** 2  #2015.0000000000002\n",
    "df.min()['Freedom']   #1\n",
    "df.max()['Freedom']   #155\n",
    "#выбросов нет, размах = 155 - 1 = 154"
   ]
  },
  {
   "cell_type": "code",
   "execution_count": 10,
   "metadata": {},
   "outputs": [
    {
     "data": {
      "text/plain": [
       "<matplotlib.collections.PathCollection at 0x1e8caa66bc8>"
      ]
     },
     "execution_count": 10,
     "metadata": {},
     "output_type": "execute_result"
    },
    {
     "data": {
      "image/png": "[encoded data removed]",
      "text/plain": [
       "<Figure size 432x288 with 1 Axes>"
      ]
     },
     "metadata": {
      "needs_background": "light"
     },
     "output_type": "display_data"
    }
   ],
   "source": [
    "#Посмотреть корреляцию между Freedom и positive affect (графически и математически). \n",
    "#Графически - plt.scatter, математически - посчитать коэффициент Пирсона. О чем говорит знак коэффициента?\n",
    "plt.scatter(df.Freedom, df['Positive affect'])"
   ]
  },
  {
   "cell_type": "code",
   "execution_count": 19,
   "metadata": {},
   "outputs": [
    {
     "data": {
      "text/plain": [
       "0.6817698430601657"
      ]
     },
     "execution_count": 19,
     "metadata": {},
     "output_type": "execute_result"
    }
   ],
   "source": [
    "from scipy.stats import pearsonr\n",
    "corr ,p_value = pearsonr(df.Freedom, df['Positive affect'])\n",
    "corr"
   ]
  },
  {
   "cell_type": "code",
   "execution_count": 43,
   "metadata": {},
   "outputs": [
    {
     "data": {
      "text/plain": [
       "0.5"
      ]
     },
     "execution_count": 43,
     "metadata": {},
     "output_type": "execute_result"
    }
   ],
   "source": [
    "#Нормализовать данные колонки Freedom (централизация + масштабирование)\n",
    "from sklearn import preprocessing\n",
    "scaler = preprocessing.MinMaxScaler(feature_range = (0,1))\n",
    "Freedom = scaler.fit_transform(np.array(df['Freedom']).reshape(-1, 1))\n",
    "Freedom.mean()"
   ]
  },
  {
   "cell_type": "code",
   "execution_count": 44,
   "metadata": {
    "scrolled": true
   },
   "outputs": [
    {
     "data": {
      "text/plain": [
       "<matplotlib.axes._subplots.AxesSubplot at 0x1e8cb804248>"
      ]
     },
     "execution_count": 44,
     "metadata": {},
     "output_type": "execute_result"
    },
    {
     "data": {
      "image/png": "[encoded data removed]",
      "text/plain": [
       "<Figure size 432x288 with 2 Axes>"
      ]
     },
     "metadata": {
      "needs_background": "light"
     },
     "output_type": "display_data"
    }
   ],
   "source": [
    "#Построить матрицу корреляций для всех колонок таблицы\n",
    "import seaborn as sns\n",
    "sns.heatmap(df.corr(), annot = True)"
   ]
  },
  {
   "cell_type": "code",
   "execution_count": 52,
   "metadata": {},
   "outputs": [
    {
     "data": {
      "text/html": [
       "<div>\n",
       "<style scoped>\n",
       "    .dataframe tbody tr th:only-of-type {\n",
       "        vertical-align: middle;\n",
       "    }\n",
       "\n",
       "    .dataframe tbody tr th {\n",
       "        vertical-align: top;\n",
       "    }\n",
       "\n",
       "    .dataframe thead th {\n",
       "        text-align: right;\n",
       "    }\n",
       "</style>\n",
       "<table border=\"1\" class=\"dataframe\">\n",
       "  <thead>\n",
       "    <tr style=\"text-align: right;\">\n",
       "      <th></th>\n",
       "      <th>Unnamed: 0</th>\n",
       "      <th>Date</th>\n",
       "      <th>AveragePrice</th>\n",
       "      <th>Total Volume</th>\n",
       "      <th>4046</th>\n",
       "      <th>4225</th>\n",
       "      <th>4770</th>\n",
       "      <th>Total Bags</th>\n",
       "      <th>Small Bags</th>\n",
       "      <th>Large Bags</th>\n",
       "      <th>XLarge Bags</th>\n",
       "      <th>type</th>\n",
       "      <th>year</th>\n",
       "      <th>region</th>\n",
       "    </tr>\n",
       "  </thead>\n",
       "  <tbody>\n",
       "    <tr>\n",
       "      <td>0</td>\n",
       "      <td>0</td>\n",
       "      <td>2015-12-27</td>\n",
       "      <td>1.33</td>\n",
       "      <td>64236.62</td>\n",
       "      <td>1036.74</td>\n",
       "      <td>54454.85</td>\n",
       "      <td>48.16</td>\n",
       "      <td>8696.87</td>\n",
       "      <td>8603.62</td>\n",
       "      <td>93.25</td>\n",
       "      <td>0.0</td>\n",
       "      <td>conventional</td>\n",
       "      <td>2015</td>\n",
       "      <td>Albany</td>\n",
       "    </tr>\n",
       "    <tr>\n",
       "      <td>1</td>\n",
       "      <td>1</td>\n",
       "      <td>2015-12-20</td>\n",
       "      <td>1.35</td>\n",
       "      <td>54876.98</td>\n",
       "      <td>674.28</td>\n",
       "      <td>44638.81</td>\n",
       "      <td>58.33</td>\n",
       "      <td>9505.56</td>\n",
       "      <td>9408.07</td>\n",
       "      <td>97.49</td>\n",
       "      <td>0.0</td>\n",
       "      <td>conventional</td>\n",
       "      <td>2015</td>\n",
       "      <td>Albany</td>\n",
       "    </tr>\n",
       "    <tr>\n",
       "      <td>2</td>\n",
       "      <td>2</td>\n",
       "      <td>2015-12-13</td>\n",
       "      <td>0.93</td>\n",
       "      <td>118220.22</td>\n",
       "      <td>794.70</td>\n",
       "      <td>109149.67</td>\n",
       "      <td>130.50</td>\n",
       "      <td>8145.35</td>\n",
       "      <td>8042.21</td>\n",
       "      <td>103.14</td>\n",
       "      <td>0.0</td>\n",
       "      <td>conventional</td>\n",
       "      <td>2015</td>\n",
       "      <td>Albany</td>\n",
       "    </tr>\n",
       "  </tbody>\n",
       "</table>\n",
       "</div>"
      ],
      "text/plain": [
       "   Unnamed: 0        Date  AveragePrice  Total Volume     4046       4225  \\\n",
       "0           0  2015-12-27          1.33      64236.62  1036.74   54454.85   \n",
       "1           1  2015-12-20          1.35      54876.98   674.28   44638.81   \n",
       "2           2  2015-12-13          0.93     118220.22   794.70  109149.67   \n",
       "\n",
       "     4770  Total Bags  Small Bags  Large Bags  XLarge Bags          type  \\\n",
       "0   48.16     8696.87     8603.62       93.25          0.0  conventional   \n",
       "1   58.33     9505.56     9408.07       97.49          0.0  conventional   \n",
       "2  130.50     8145.35     8042.21      103.14          0.0  conventional   \n",
       "\n",
       "   year  region  \n",
       "0  2015  Albany  \n",
       "1  2015  Albany  \n",
       "2  2015  Albany  "
      ]
     },
     "execution_count": 52,
     "metadata": {},
     "output_type": "execute_result"
    }
   ],
   "source": [
    "#Загрузить таблицу цен на авокадо:\n",
    "df=pd.read_csv('avocado.txt')\n",
    "df[:3]"
   ]
  },
  {
   "cell_type": "code",
   "execution_count": 108,
   "metadata": {
    "scrolled": true
   },
   "outputs": [
    {
     "data": {
      "text/plain": [
       "(array([5.000e+00, 2.400e+01, 5.200e+01, 8.100e+01, 1.690e+02, 2.570e+02,\n",
       "        3.870e+02, 3.810e+02, 6.490e+02, 9.580e+02, 8.500e+02, 1.029e+03,\n",
       "        1.074e+03, 8.600e+02, 1.011e+03, 7.240e+02, 9.760e+02, 1.005e+03,\n",
       "        8.450e+02, 9.560e+02, 8.890e+02, 6.620e+02, 6.780e+02, 5.080e+02,\n",
       "        6.750e+02, 5.330e+02, 3.550e+02, 3.300e+02, 2.320e+02, 2.220e+02,\n",
       "        1.850e+02, 1.080e+02, 1.080e+02, 1.210e+02, 7.600e+01, 4.800e+01,\n",
       "        2.900e+01, 3.900e+01, 3.700e+01, 2.400e+01, 2.300e+01, 1.800e+01,\n",
       "        2.000e+01, 1.500e+01, 1.000e+01, 5.000e+00, 3.000e+00, 1.000e+00,\n",
       "        1.000e+00, 1.000e+00]),\n",
       " array([0.44  , 0.4962, 0.5524, 0.6086, 0.6648, 0.721 , 0.7772, 0.8334,\n",
       "        0.8896, 0.9458, 1.002 , 1.0582, 1.1144, 1.1706, 1.2268, 1.283 ,\n",
       "        1.3392, 1.3954, 1.4516, 1.5078, 1.564 , 1.6202, 1.6764, 1.7326,\n",
       "        1.7888, 1.845 , 1.9012, 1.9574, 2.0136, 2.0698, 2.126 , 2.1822,\n",
       "        2.2384, 2.2946, 2.3508, 2.407 , 2.4632, 2.5194, 2.5756, 2.6318,\n",
       "        2.688 , 2.7442, 2.8004, 2.8566, 2.9128, 2.969 , 3.0252, 3.0814,\n",
       "        3.1376, 3.1938, 3.25  ]),\n",
       " <a list of 50 Patch objects>)"
      ]
     },
     "execution_count": 108,
     "metadata": {},
     "output_type": "execute_result"
    },
    {
     "data": {
      "image/png": "[encoded data removed]",
      "text/plain": [
       "<Figure size 432x288 with 1 Axes>"
      ]
     },
     "metadata": {
      "needs_background": "light"
     },
     "output_type": "display_data"
    }
   ],
   "source": [
    "#Сделать частотный график колонки AveragePrice. Какое это распределение?\n",
    "plt.hist(df['AveragePrice'], bins = 50)\n",
    "#похоже на нормальное распределение\n",
    "#однако, 4046, 4225, 4770 - не являются нормальными\n",
    "plt.hist(df[(df['4770'] > 0)&(df['4770'] < 1000)]['4770'], bins = 100)"
   ]
  },
  {
   "cell_type": "code",
   "execution_count": 100,
   "metadata": {},
   "outputs": [
    {
     "data": {
      "text/plain": [
       "(-0.2083170484878848, -0.5961701841279068, -0.41677702878694456)"
      ]
     },
     "execution_count": 100,
     "metadata": {},
     "output_type": "execute_result"
    }
   ],
   "source": [
    "#Найти корреляцию в следующих колонках: колонкой 4046, 4225, 4770 и Average Price. \n",
    "#Если корелляция есть (обратная или прямая), то какие выводы можно сделать?\n",
    "corr1 ,p_value1 = sts.pearsonr(df['4046'], df['AveragePrice'])\n",
    "corr2, p_value2 = sts.spearmanr(df['4046'], df['AveragePrice'])\n",
    "corr3, p_value3 = sts.kendalltau(df['4046'], df['AveragePrice'])\n",
    "corr1, corr2, corr3"
   ]
  },
  {
   "cell_type": "code",
   "execution_count": 92,
   "metadata": {},
   "outputs": [
    {
     "data": {
      "text/html": [
       "<div>\n",
       "<style scoped>\n",
       "    .dataframe tbody tr th:only-of-type {\n",
       "        vertical-align: middle;\n",
       "    }\n",
       "\n",
       "    .dataframe tbody tr th {\n",
       "        vertical-align: top;\n",
       "    }\n",
       "\n",
       "    .dataframe thead th {\n",
       "        text-align: right;\n",
       "    }\n",
       "</style>\n",
       "<table border=\"1\" class=\"dataframe\">\n",
       "  <thead>\n",
       "    <tr style=\"text-align: right;\">\n",
       "      <th></th>\n",
       "      <th>4046</th>\n",
       "      <th>4225</th>\n",
       "      <th>4770</th>\n",
       "      <th>AveragePrice</th>\n",
       "    </tr>\n",
       "  </thead>\n",
       "  <tbody>\n",
       "    <tr>\n",
       "      <td>4046</td>\n",
       "      <td>1.000000</td>\n",
       "      <td>0.926110</td>\n",
       "      <td>0.833389</td>\n",
       "      <td>-0.208317</td>\n",
       "    </tr>\n",
       "    <tr>\n",
       "      <td>4225</td>\n",
       "      <td>0.926110</td>\n",
       "      <td>1.000000</td>\n",
       "      <td>0.887855</td>\n",
       "      <td>-0.172928</td>\n",
       "    </tr>\n",
       "    <tr>\n",
       "      <td>4770</td>\n",
       "      <td>0.833389</td>\n",
       "      <td>0.887855</td>\n",
       "      <td>1.000000</td>\n",
       "      <td>-0.179446</td>\n",
       "    </tr>\n",
       "    <tr>\n",
       "      <td>AveragePrice</td>\n",
       "      <td>-0.208317</td>\n",
       "      <td>-0.172928</td>\n",
       "      <td>-0.179446</td>\n",
       "      <td>1.000000</td>\n",
       "    </tr>\n",
       "  </tbody>\n",
       "</table>\n",
       "</div>"
      ],
      "text/plain": [
       "                  4046      4225      4770  AveragePrice\n",
       "4046          1.000000  0.926110  0.833389     -0.208317\n",
       "4225          0.926110  1.000000  0.887855     -0.172928\n",
       "4770          0.833389  0.887855  1.000000     -0.179446\n",
       "AveragePrice -0.208317 -0.172928 -0.179446      1.000000"
      ]
     },
     "execution_count": 92,
     "metadata": {},
     "output_type": "execute_result"
    }
   ],
   "source": [
    "df_new = df[['4046','4225','4770','AveragePrice']]\n",
    "df_new.corr()\n",
    "#корреляцию Пирсона нельзя использовать, т.к. распределения '4046','4225','4770' не являются нормальными\n",
    "#по Спирману есть корреляция (0.75 - 0.82) между '4046','4225','4770', что допустимо, если растет спрос на авкадо, то он растет для всех марок. \n",
    "#Корреляции со средней ценой."
   ]
  },
  {
   "cell_type": "code",
   "execution_count": 144,
   "metadata": {
    "scrolled": true
   },
   "outputs": [
    {
     "data": {
      "text/plain": [
       "(0.9261099558992297, 0.7939391911434058, 0.5927205849040433)"
      ]
     },
     "execution_count": 144,
     "metadata": {},
     "output_type": "execute_result"
    }
   ],
   "source": [
    "corr1 ,p_value1 = sts.pearsonr(df['4046'], df['4225'])\n",
    "corr2, p_value2 = sts.spearmanr(df['4046'], df['4225'])\n",
    "corr3, p_value3 = sts.kendalltau(df['4046'], df['4225'])\n",
    "corr1, corr2, corr3"
   ]
  },
  {
   "cell_type": "code",
   "execution_count": 146,
   "metadata": {},
   "outputs": [
    {
     "data": {
      "text/plain": [
       "(0.8333891041719166, 0.7548383147584622, 0.5654990633860835)"
      ]
     },
     "execution_count": 146,
     "metadata": {},
     "output_type": "execute_result"
    }
   ],
   "source": [
    "corr1 ,p_value1 = sts.pearsonr(df['4046'], df['4770'])\n",
    "corr2, p_value2 = sts.spearmanr(df['4046'], df['4770'])\n",
    "corr3, p_value3 = sts.kendalltau(df['4046'], df['4770'])\n",
    "corr1, corr2, corr3"
   ]
  },
  {
   "cell_type": "code",
   "execution_count": 147,
   "metadata": {},
   "outputs": [
    {
     "data": {
      "text/plain": [
       "(0.8878549976059533, 0.8199051095957544, 0.6320017870262711)"
      ]
     },
     "execution_count": 147,
     "metadata": {},
     "output_type": "execute_result"
    }
   ],
   "source": [
    "corr1 ,p_value1 = sts.pearsonr(df['4225'], df['4770'])\n",
    "corr2, p_value2 = sts.spearmanr(df['4225'], df['4770'])\n",
    "corr3, p_value3 = sts.kendalltau(df['4225'], df['4770'])\n",
    "corr1, corr2, corr3"
   ]
  },
  {
   "cell_type": "code",
   "execution_count": 149,
   "metadata": {},
   "outputs": [
    {
     "data": {
      "text/plain": [
       "(-0.1794459839797562, -0.5328254290377853, -0.37450739985891623)"
      ]
     },
     "execution_count": 149,
     "metadata": {},
     "output_type": "execute_result"
    }
   ],
   "source": [
    "corr1 ,p_value1 = sts.pearsonr(df['4770'], df['AveragePrice'])\n",
    "corr2, p_value2 = sts.spearmanr(df['4770'], df['AveragePrice'])\n",
    "corr3, p_value3 = sts.kendalltau(df['4770'], df['AveragePrice'])\n",
    "corr1, corr2, corr3"
   ]
  }
 ],
 "metadata": {
  "kernelspec": {
   "display_name": "Python 3",
   "language": "python",
   "name": "python3"
  },
  "language_info": {
   "codemirror_mode": {
    "name": "ipython",
    "version": 3
   },
   "file_extension": ".py",
   "mimetype": "text/x-python",
   "name": "python",
   "nbconvert_exporter": "python",
   "pygments_lexer": "ipython3",
   "version": "3.7.4"
  }
 },
 "nbformat": 4,
 "nbformat_minor": 2
}
