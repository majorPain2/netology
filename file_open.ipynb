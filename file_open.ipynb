{
 "cells": [
  {
   "cell_type": "code",
   "execution_count": 6,
   "metadata": {
    "scrolled": true
   },
   "outputs": [],
   "source": [
    "import json\n",
    "with open('purchase_log.txt', 'r', encoding = 'UTF-8') as file:\n",
    "    key = []\n",
    "    value = []\n",
    "    for _ in file:\n",
    "        line = file.readline().strip()\n",
    "        line_new = json.loads(line)\n",
    "        key.append(line_new['user_id'])\n",
    "        value.append(line_new['category'])\n",
    "    purchase = dict(zip(key, value))"
   ]
  },
  {
   "cell_type": "code",
   "execution_count": 7,
   "metadata": {},
   "outputs": [],
   "source": [
    "list_ = []\n",
    "with open('funnel.csv', 'w', encoding = 'UTF-8') as file_new:\n",
    "    with open('visit_log.csv', 'r', encoding = 'UTF-8') as file:\n",
    "        for _ in file:\n",
    "            visit = file.readline().strip()\n",
    "            visit_id = visit.split(',')[0]\n",
    "            if visit_id in purchase.keys():\n",
    "                str_ = visit + ',' + purchase[visit_id] + '\\n'\n",
    "                file_new.write(str_)\n",
    "                list_.append(str_)"
   ]
  }
 ],
 "metadata": {
  "kernelspec": {
   "display_name": "Python 3",
   "language": "python",
   "name": "python3"
  },
  "language_info": {
   "codemirror_mode": {
    "name": "ipython",
    "version": 3
   },
   "file_extension": ".py",
   "mimetype": "text/x-python",
   "name": "python",
   "nbconvert_exporter": "python",
   "pygments_lexer": "ipython3",
   "version": "3.7.4"
  }
 },
 "nbformat": 4,
 "nbformat_minor": 2
}
