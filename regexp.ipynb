{
 "cells": [
  {
   "cell_type": "code",
   "execution_count": 1,
   "metadata": {},
   "outputs": [],
   "source": [
    "import re"
   ]
  },
  {
   "cell_type": "code",
   "execution_count": 2,
   "metadata": {},
   "outputs": [],
   "source": [
    "#Напишите функцию, которая принимает на вход строку и проверяет является ли она валидным транспортным номером. \n",
    "#Если да, то функция должна возвращать отдельно номер и регион.\n",
    "str_ = 'А 456 нп 025'\n",
    "def check_TS(str_):\n",
    "    result = re.search(r'(^[а-яё,А-ЯЁ]\\s\\d{3,4}\\s[а-яё,А-ЯЁ]{2})\\s(\\d{2,3}$)',str_)\n",
    "    if result:\n",
    "        return result[1], result[2]\n",
    "    else:\n",
    "        print('it\\'s not TS number')"
   ]
  },
  {
   "cell_type": "code",
   "execution_count": 7,
   "metadata": {},
   "outputs": [
    {
     "data": {
      "text/plain": [
       "('А 456 нп', '025')"
      ]
     },
     "execution_count": 7,
     "metadata": {},
     "output_type": "execute_result"
    }
   ],
   "source": [
    "check_TS('А 456 нп 025')"
   ]
  },
  {
   "cell_type": "code",
   "execution_count": 9,
   "metadata": {},
   "outputs": [
    {
     "data": {
      "text/plain": [
       "'incorrect e-mail1'"
      ]
     },
     "execution_count": 9,
     "metadata": {},
     "output_type": "execute_result"
    }
   ],
   "source": [
    "#Постарайтесь написать (в крайнем случае найти) самый полный шаблон для проверки e-mail адресов через регулярное выражение, которая проверяет e-mail адрес на валидность. \n",
    "str_ = 'dfdfsf@mai.fd__fdf.dfdsfsdfsdf.f.ffff'\n",
    "def check_email(str_):\n",
    "    group1 = re.search(r'(^\\w{4,100}@\\w+)(\\.\\w+)*(\\.\\w{2,4})+$',str_)\n",
    "    if group1 is None:\n",
    "        return('incorrect e-mail1')\n",
    "    #проверяем, что только латинские символы\n",
    "    if re.findall(r'[^a-zA-Z\\.@_]',str_):\n",
    "        return('incorrect e-mail2')\n",
    "    if re.findall(r'\\d',group1[3]):\n",
    "        return('incorrect e-mail3')\n",
    "    if re.findall(r'@\\w{2,100}$',group1[1]):\n",
    "        return 'correct email'\n",
    "    else:\n",
    "        return('incorrect e-mail4')\n",
    "    #group2 = re.findall(r'[^a-zA-Z\\.@_]',group1[3])\n",
    "check_email(str_)"
   ]
  },
  {
   "cell_type": "code",
   "execution_count": 16,
   "metadata": {},
   "outputs": [
    {
     "data": {
      "text/plain": [
       "'cert fgdfg dsf sdfgsdg dsf fd'"
      ]
     },
     "execution_count": 16,
     "metadata": {},
     "output_type": "execute_result"
    }
   ],
   "source": [
    "#Напишите функцию, которая будет удалять все последовательные повторы слов из заданной строки при помощи регулярных выражений.\n",
    "text = 'cert cert cert fgdfg dsf sdfgsdg dsf fd'\n",
    "def check_string(text):\n",
    "    return re.sub(r'(\\w+\\s)\\1+', r'\\1', text)\n",
    "check_string(text)"
   ]
  },
  {
   "cell_type": "code",
   "execution_count": 295,
   "metadata": {},
   "outputs": [
    {
     "data": {
      "text/plain": [
       "['fd ']"
      ]
     },
     "execution_count": 295,
     "metadata": {},
     "output_type": "execute_result"
    }
   ],
   "source": [
    "• +7 955 555-55-55;\n",
    "• 9555555555;\n",
    "• 8(955)555-55-55;\n",
    "• +7 955 555 55 55;\n",
    "• 7(955) 555-55-55;\n",
    "• +7 955+555+55+55."
   ]
  },
  {
   "cell_type": "code",
   "execution_count": 18,
   "metadata": {},
   "outputs": [
    {
     "data": {
      "text/plain": [
       "'+7(955)-555-55-55'"
      ]
     },
     "execution_count": 18,
     "metadata": {},
     "output_type": "execute_result"
    }
   ],
   "source": [
    "num = '+7 955 555-55-55'\n",
    "def check_number(num):\n",
    "    if re.search(r'[^\\d\\s()\\+-]',num) is not None:\n",
    "        return 'incorrect number1'\n",
    "    num = re.sub(r'\\D','',num)\n",
    "    if len(num) == 11:\n",
    "        num_corr = re.sub(r'^8|7','',num)\n",
    "    else:\n",
    "        num_corr = num\n",
    "    if len(num_corr) == 10:\n",
    "        return '+7('+num_corr[0:3]+')-'+num_corr[3:6]+'-'+num_corr[6:8]+'-'+num_corr[8:]\n",
    "    else:\n",
    "        return 'incorrect number2'\n",
    "check_number(num)"
   ]
  }
 ],
 "metadata": {
  "kernelspec": {
   "display_name": "Python 3",
   "language": "python",
   "name": "python3"
  },
  "language_info": {
   "codemirror_mode": {
    "name": "ipython",
    "version": 3
   },
   "file_extension": ".py",
   "mimetype": "text/x-python",
   "name": "python",
   "nbconvert_exporter": "python",
   "pygments_lexer": "ipython3",
   "version": "3.7.4"
  }
 },
 "nbformat": 4,
 "nbformat_minor": 2
}
