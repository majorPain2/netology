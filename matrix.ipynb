{
 "cells": [
  {
   "cell_type": "code",
   "execution_count": 1,
   "metadata": {},
   "outputs": [],
   "source": [
    "import numpy as np"
   ]
  },
  {
   "cell_type": "code",
   "execution_count": 3,
   "metadata": {},
   "outputs": [
    {
     "data": {
      "text/plain": [
       "[<matplotlib.lines.Line2D at 0x2b199093c08>]"
      ]
     },
     "execution_count": 3,
     "metadata": {},
     "output_type": "execute_result"
    },
    {
     "data": {
      "image/png": "[encoded data removed]",
      "text/plain": [
       "<Figure size 432x288 with 1 Axes>"
      ]
     },
     "metadata": {
      "needs_background": "light"
     },
     "output_type": "display_data"
    }
   ],
   "source": [
    "#Задание 1. Изобразите с помощью matplotlib. Изобразите точку x + 2y + 3z. Найдите угол между векторами x, y и x, z.\n",
    "from matplotlib import pyplot as plt\n",
    "x = np.array([1,1])\n",
    "y = np.array([2, 0])\n",
    "z = np.array([0,2])\n",
    "D = x + 2 * y + 3 * z\n",
    "plt.plot([0,x[0]], [0,x[1]])\n",
    "plt.plot([0,y[0]], [0,y[1]])\n",
    "plt.plot([0,z[0]], [0,z[1]])\n",
    "plt.plot([0,D[0]], [0,D[1]])\n",
    "#угол между вектором x и осями равен 45 градусов"
   ]
  },
  {
   "cell_type": "code",
   "execution_count": 4,
   "metadata": {},
   "outputs": [],
   "source": [
    "#Задание 2. Найдите собственные значения и собственные вектора матриц \n",
    "m1 = np.array([[2, 2],\n",
    "               [1, 3]])\n",
    "\n",
    "m2 = np.array([[4, 1, -1],\n",
    "               [1, 4, -1],\n",
    "               [-1, -1, 4]])\n",
    "w1, v1 = np.linalg.eig(m1)\n",
    "w2, v2 = np.linalg.eig(m2)"
   ]
  },
  {
   "cell_type": "code",
   "execution_count": 5,
   "metadata": {},
   "outputs": [
    {
     "name": "stdout",
     "output_type": "stream",
     "text": [
      "1.0 [-0.89442719  0.4472136 ]\n",
      "4.0 [-0.70710678 -0.70710678]\n"
     ]
    }
   ],
   "source": [
    "for i, n in enumerate(w1):\n",
    "    print(n, v1[:,i])"
   ]
  },
  {
   "cell_type": "code",
   "execution_count": 6,
   "metadata": {},
   "outputs": [
    {
     "name": "stdout",
     "output_type": "stream",
     "text": [
      "2.999999999999999 [-0.81649658  0.40824829 -0.40824829]\n",
      "5.999999999999997 [ 0.57735027  0.57735027 -0.57735027]\n",
      "2.9999999999999996 [-0.27658128  0.8035929   0.52701162]\n"
     ]
    }
   ],
   "source": [
    "for i, n in enumerate(w2):\n",
    "    print(n, v2[:,i])"
   ]
  },
  {
   "cell_type": "code",
   "execution_count": 9,
   "metadata": {},
   "outputs": [
    {
     "data": {
      "text/plain": [
       "array([[1., 2.],\n",
       "       [2., 3.]])"
      ]
     },
     "execution_count": 9,
     "metadata": {},
     "output_type": "execute_result"
    }
   ],
   "source": [
    "#Задание 3. Найдите сингулярное разложение матрицы.\n",
    "m3 = np.array([[1, 2],\n",
    "               [2, 3]])\n",
    "U, s, V = np.linalg.svd(m3)\n",
    "S = np.diag(s)\n",
    "U.dot(S.dot(V))"
   ]
  },
  {
   "cell_type": "code",
   "execution_count": 10,
   "metadata": {},
   "outputs": [
    {
     "data": {
      "text/plain": [
       "array([[1., 2.],\n",
       "       [2., 3.]])"
      ]
     },
     "execution_count": 10,
     "metadata": {},
     "output_type": "execute_result"
    }
   ],
   "source": [
    "U.dot(S.dot(V))"
   ]
  }
 ],
 "metadata": {
  "kernelspec": {
   "display_name": "Python 3",
   "language": "python",
   "name": "python3"
  },
  "language_info": {
   "codemirror_mode": {
    "name": "ipython",
    "version": 3
   },
   "file_extension": ".py",
   "mimetype": "text/x-python",
   "name": "python",
   "nbconvert_exporter": "python",
   "pygments_lexer": "ipython3",
   "version": "3.7.4"
  }
 },
 "nbformat": 4,
 "nbformat_minor": 2
}
